{
 "cells": [
  {
   "cell_type": "markdown",
   "metadata": {},
   "source": [
    "# Filtrage passe-bas, Ã  bande Ã©troite et analyse de la TZ\n",
    "\n",
    "*But* : Analyser les filtres Ã  bandes Ã©troites et comprendre comment les reprÃ©senter via la TZ\n",
    "\n"
   ]
  },
  {
   "cell_type": "markdown",
   "metadata": {},
   "source": [
    "## 1. Filtre passe-haut\n",
    "\n",
    "- On commence par charger le fichier du notebook prÃ©cÃ©dent"
   ]
  },
  {
   "cell_type": "code",
   "execution_count": null,
   "metadata": {},
   "outputs": [],
   "source": [
    "%matplotlib inline\n",
    "import numpy as np\n",
    "import scipy.signal as sig\n",
    "import matplotlib.pyplot as plt\n",
    "\n",
    "import soundfile as sf\n",
    "import IPython.display \n",
    "\n",
    "\n",
    "x_loop, Fe = sf.read(\"myloop.wav\")\n",
    "x_loop = x_loop[:,0] #prenons qu'un seul canal \n",
    "IPython.display.Audio(x_loop, rate=Fe)\n",
    "\n"
   ]
  },
  {
   "cell_type": "markdown",
   "metadata": {},
   "source": [
    "- Un filtre passe-haut amplifie, comme son nom l'indique, les hautes frÃ©quences jusqu'Ã  une certaine valeur.  \n",
    "\n",
    "Nous allons d'abord Ã©tudier un filtre de fonction de transfert suivante : \n",
    "\n",
    "$$\n",
    "H(z) = \\frac{1-z^{-1}}{1+0.5z^{-1}}\n",
    "$$"
   ]
  },
  {
   "cell_type": "markdown",
   "metadata": {},
   "source": [
    "**Questions et application**:\n",
    "1. VÃ©rifier ses caractÃ©ristiques (stable, causal etc. ?)\n",
    "2. DÃ©terminer son pÃ´le et son zÃ©ro\n",
    "3. Tracer la rÃ©ponse en frÃ©quence du filtre ainsi que les pÃ´les et zÃ©ros sur un cercle (aidez vous des fonctions ci-dessous)\n",
    "4. Commentez ce que vous entendez."
   ]
  },
  {
   "cell_type": "code",
   "execution_count": null,
   "metadata": {},
   "outputs": [],
   "source": [
    "def reponse_en_frequence(b, a):\n",
    "    w,h = sig.freqz(b,a,4096)\n",
    "    hdb = 20*np.log10(np.abs(h))\n",
    "    plt.plot(w/2/np.pi,hdb)\n",
    "    plt.grid()\n",
    "    plt.xlabel(r'frÃ©quence rÃ©duite $\\nu$')\n",
    "    plt.ylabel('dB')\n",
    "    plt.title('RÃ©ponse en frÃ©quence du filtre')\n",
    "    plt.show()\n",
    "\n",
    "\n",
    "\n",
    "def plot_poles_and_zeros(poles, zeros):\n",
    "    # Plot the poles and zeros\n",
    "    plt.plot(np.real(zeros), np.imag(zeros), 'o', label='Zeros')\n",
    "    plt.plot(np.real(poles), np.imag(poles), 'x', label='Poles')\n",
    "\n",
    "    # Add axis labels and a legend\n",
    "    plt.xlabel('Partie rÃ©elle')\n",
    "    plt.ylabel('Partie Imaginaire')\n",
    "    plt.title('PÃ´les et zÃ©ros')\n",
    "    plt.legend()\n",
    "\n",
    "\n",
    "    # Ajouter un cercle unitÃ©\n",
    "    theta = np.linspace(0, 2*np.pi, 100)\n",
    "    plt.plot(np.cos(theta), np.sin(theta), '--', color='gray')\n",
    "\n",
    "    plt.xlim([-2.5, 2.5])\n",
    "    plt.ylim([-2.5, 2.5])\n",
    "    plt.gca().set_aspect('equal', adjustable='box')\n",
    "\n",
    "    #afficher le plot\n",
    "    plt.grid()\n",
    "    plt.show()\n"
   ]
  },
  {
   "cell_type": "code",
   "execution_count": null,
   "metadata": {},
   "outputs": [],
   "source": [
    "a = TODO #  dÃ©nominateur\n",
    "b = TODO #  numÃ©rateur\n",
    "\n",
    "x_f = sig.lfilter(b,a,x_loop)\n",
    "\n",
    "pi = np.pi\n",
    "\n",
    "\n",
    "# Calculer les pÃ´les et les zÃ©ros\n",
    "zeros = np.roots(b)\n",
    "poles = np.roots(a)\n",
    "\n",
    "# Si on part des poles et des zÃ©ros, on a \n",
    "# a = np.poly(zeros)\n",
    "# b = np.poly(poles)\n",
    "\n",
    "reponse_en_frequence(b, a)\n",
    "\n",
    "plot_poles_and_zeros(poles, zeros)\n",
    "\n",
    "IPython.display.Audio(x_f, rate=Fe)\n"
   ]
  },
  {
   "cell_type": "code",
   "execution_count": null,
   "metadata": {},
   "outputs": [],
   "source": []
  },
  {
   "cell_type": "markdown",
   "metadata": {},
   "source": [
    "## 2. Filtre passe-bas\n",
    "\n",
    "1. Commencez par inverser le dÃ©nominateur et le numÃ©rateur du filtre prÃ©cÃ©dent. C'est Ã  dire, considÃ©rez la fonction de transfert suivante : \n",
    "$$\n",
    "H(z) = \\frac{1+0.5z^{-1}}{1-z^{-1}}\n",
    "$$\n",
    "Faites la mÃªme analyse qu'avant (rÃ©ponse en frÃ©quence, poles/zÃ©ros, stabilitÃ©, causalitÃ© etc.)\n",
    "\n",
    "2. Vous recevez un message d'erreur ? Quelle propriÃ©tÃ© n'a pas ce filtre qu'avait l'autre filtre ? \n",
    "   \n",
    "3. On va remplacer par le filtre suivant : \n",
    "$$\n",
    "H(z) = \\frac{1+0.5z^{-1}}{1-0.95z^{-1}}\n",
    "$$\n",
    "Est-ce que la propriÃ©tÃ© du premier filtre (dans la section 1) manquante a Ã©tÃ© rÃ©cupÃ©rÃ©e ? \n",
    "\n",
    "4. Essayez de jouer avec les valeurs du pÃ´le et du zÃ©ro pour voir l'influence sur la rÃ©ponse en frÃ©quence. En conclure alors Ã  partir de cette premiÃ¨re section et de la seconde section les valeurs des points $[1, 0], [-1, 0]$ sur le cercle (au choix: $\\frac{fe}{2} Hz$ ou $0$) "
   ]
  },
  {
   "cell_type": "code",
   "execution_count": null,
   "metadata": {},
   "outputs": [],
   "source": []
  },
  {
   "cell_type": "markdown",
   "metadata": {},
   "source": [
    "# 3. Filtre Passe-bande\n",
    "## 3.1. L'effet \"vieux tÃ©lÃ©phone\"\n",
    "Les appels tÃ©lÃ©phoniques, pour des raisons techniques, Ã©taient limitÃ©s Ã  une bande frÃ©quentielle de $200 Hz â€“ 3,4 kHz$ dans le passÃ©. \n",
    "\n",
    "On va charger tout d'abord le fichier ``speech.wav`` et tenter d'appliquer un filtre passe-bande correspondant Ã  $200HZ - 3.4 kHz$"
   ]
  },
  {
   "cell_type": "code",
   "execution_count": null,
   "metadata": {},
   "outputs": [],
   "source": [
    "x_speech, Fe = sf.read(\"speech.wav\")\n",
    "print(Fe)\n",
    "IPython.display.Audio(x_speech, rate=Fe)"
   ]
  },
  {
   "cell_type": "markdown",
   "metadata": {},
   "source": [
    "1. DÃ©terminer les angles $\\theta_{\\text{in}}, \\theta_{\\text{out}}$ sur le demi-cercle unitÃ© correspondant aux frÃ©quences $200Hz$ et $3.4 kHz$ respectivement. \n",
    "2. Soient $z_{\\text{in}} = re^{i\\theta_{\\text{in}}}$ et $z_{\\text{out}} = re^{i\\theta_{\\text{out}}}$ les pÃ´les correspondant aux frÃ©quences du filtre passe bande avec $r < 1$. On considÃ¨re $1$ pÃ´le $z_1$ son conjuguÃ© :\n",
    "$$\n",
    "H(z) = \\frac{1}{|1-z_1 z^{-1}|^2}\n",
    "$$\n",
    "Pourquoi considÃ©rer les pÃ´les conjuguÃ©s Ã  votre avis ?\n",
    "\n",
    "1. Application : Prenez $1$ pÃ´le entre $\\theta_{\\text{in}}$ et $\\theta_{\\text{out}}$ au centre de la bande et appliquez-le au filtre. Observez la rÃ©ponse frÃ©quentielle du filtre en fonction des paramÃ¨tres, contrÃ´lez la position des pÃ´les et concluez.\n",
    "   \n",
    "2. AmÃ©lioration : Rajoutez des zÃ©ros conjuguÃ©s dans $H(z)$ pour encore plus insister sur la rÃ©ponse frÃ©quentielle du filtre dans la bande passante voulue.  "
   ]
  },
  {
   "cell_type": "code",
   "execution_count": null,
   "metadata": {},
   "outputs": [],
   "source": [
    "r_zeros = TODO\n",
    "r_pole = TODO\n",
    "Theta_in = TODO\n",
    "Theta_out = TODO\n",
    "thetas_poles = TODO\n",
    "thetas_zeros = TODO\n",
    "\n",
    "z_pole = r_pole * np.concatenate((np.exp(1j * thetas_poles), (np.exp(-1j * thetas_poles))),\n",
    "                       axis=0)\n",
    "z_zeros = r_zeros * np.concatenate((np.exp(1j * thetas_zeros), (np.exp(-1j * thetas_zeros))),\n",
    "                       axis=0)\n",
    "a = np.poly(z_pole)  # denominateur\n",
    "b = np.poly(z_zeros) # numÃ©rateur\n",
    "\n",
    "x_f = TODO\n",
    "\n",
    "reponse_en_frequence(b, a)\n",
    "\n",
    "plot_poles_and_zeros(poles, zeros)\n"
   ]
  },
  {
   "cell_type": "markdown",
   "metadata": {},
   "source": [
    "\n",
    "## 3.2. Isolation des notes\n",
    "\n",
    "Un modÃ¨le simple pour un instrument harmonique quand il joue une note est qu'il est composÃ© : \n",
    "- d'une frÃ©quence fondamentale (souvent appellÃ©e $f_0$)\n",
    "- d'harmoniques ou *partiel harmonique* (proportionnel Ã  $f_0$ *e.g.* $2 f_0, 3f_0 \\dots$)\n",
    "\n",
    "Les frÃ©quences fondamentales du piano sont disponibles sur Wikipedia [ici](https://fr.wikipedia.org/wiki/Fr%C3%A9quences_des_touches_du_piano)\n",
    "Le la est Ã  440 Hz. Quand la frÃ©quence double, la note porte le mÃªme nom mais on change d'octave. Le rapport de frÃ©quence entre deux notes successives est Ã©gal Ã  2**(1/12)."
   ]
  },
  {
   "cell_type": "markdown",
   "metadata": {},
   "source": [
    "On s'intÃ©resse tout d'abord Ã  un fichier gÃ©nÃ©rÃ© avec des sinusoÃ¯des. Nous allons crÃ©er un filtre  stable et causal qui rÃ©sonne quand une note donnÃ©e est prÃ©sente dans le signal mais pas pour les autres notes. On pourra \n",
    "- soit placer les pÃ´les et les zÃ©ros de maniÃ¨re Ã  obtenir l'effet voulu, \n",
    "- soit partir d'un filtre passe-bas et dÃ©caler sa rÃ©ponse en frÃ©quence de maniÃ¨re appropriÃ©e.\n",
    "\n",
    "\n",
    "Conseil: Il peut Ãªtre intÃ©ressant de retourner le module d'un filtre complexe. En effet la sortie d'un filtre rÃ©el oscillera Ã  la frÃ©quence recherchÃ©e, ce qui gÃªne la visualisation."
   ]
  },
  {
   "cell_type": "code",
   "execution_count": null,
   "metadata": {},
   "outputs": [],
   "source": [
    "t = np.arange(0, 5, 1/Fe)\n",
    "son = np.concatenate([np.sin(2 * np.pi * t[0:len(t)//3] * 440), \n",
    "                      np.sin(2*np.pi*t[len(t)//3:2*len(t)//3] * 440*2**(1/12)), \n",
    "                      np.sin(2*np.pi*t[2*len(t)//3:] * 440 * 2) ])"
   ]
  },
  {
   "cell_type": "code",
   "execution_count": null,
   "metadata": {},
   "outputs": [],
   "source": [
    "IPython.display.Audio(son, rate=Fe)"
   ]
  },
  {
   "cell_type": "code",
   "execution_count": null,
   "metadata": {},
   "outputs": [],
   "source": []
  },
  {
   "cell_type": "markdown",
   "metadata": {},
   "source": [
    "On charge ci-aprÃ¨s le fichier ``Piano_accord.wav`` qui est composÃ© des notes $\\texttt{Do 4, Mi 4, Sol 4} $. Essayez de faire de mÃªme avec ce morceau plus complexe."
   ]
  },
  {
   "cell_type": "code",
   "execution_count": null,
   "metadata": {},
   "outputs": [],
   "source": [
    "x_accord, Fe = sf.read(\"Piano_accord.wav\")\n",
    "x_accord = x_accord[:,0] #prenons qu'un seul canal \n",
    "IPython.display.Audio(x_accord, rate=Fe)"
   ]
  },
  {
   "cell_type": "code",
   "execution_count": null,
   "metadata": {},
   "outputs": [],
   "source": []
  },
  {
   "cell_type": "markdown",
   "metadata": {},
   "source": [
    "## 3.3. TransformÃ©e de Fourier Ã  court terme\n",
    "Montrez que la TCFT peut se rÃ©interprÃ©ter comme un ensemble de filtres dÃ©tecteurs de notes. En dÃ©duire un algorithme rapide pour dÃ©tecter un grand nombre de notes en mÃªme temps.\n"
   ]
  },
  {
   "cell_type": "code",
   "execution_count": null,
   "metadata": {},
   "outputs": [],
   "source": []
  }
 ],
 "metadata": {
  "kernelspec": {
   "display_name": "Python 3",
   "language": "python",
   "name": "python3"
  },
  "language_info": {
   "codemirror_mode": {
    "name": "ipython",
    "version": 3
   },
   "file_extension": ".py",
   "mimetype": "text/x-python",
   "name": "python",
   "nbconvert_exporter": "python",
   "pygments_lexer": "ipython3",
   "version": "3.5.3"
  }
 },
 "nbformat": 4,
 "nbformat_minor": 2
}