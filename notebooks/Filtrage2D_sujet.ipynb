{
 "cells": [
  {
   "cell_type": "markdown",
   "id": "5c89930f",
   "metadata": {},
   "source": [
    "## Une image pour étudier un signal sonore\n",
    "\n",
    "Nous allons représenter un signal sonore comme une image en utilisant son spectrogramme, c'est à dire le module de sa transformée de Fourier à court terme."
   ]
  },
  {
   "cell_type": "code",
   "execution_count": null,
   "id": "13789e0c",
   "metadata": {},
   "outputs": [
    {
     "ename": "",
     "evalue": "",
     "output_type": "error",
     "traceback": [
      "\u001b[1;31mRunning cells with '.venv' requires the ipykernel package.\n",
      "\u001b[1;31mRun the following command to install 'ipykernel' into the Python environment. \n",
      "\u001b[1;31mCommand: 'd:/files/1a/si101/.venv/Scripts/python.exe -m pip install ipykernel -U --force-reinstall'"
     ]
    }
   ],
   "source": [
    "%matplotlib inline\n",
    "import numpy as np\n",
    "import scipy.signal as sig\n",
    "import matplotlib.pyplot as plt\n",
    "\n",
    "import soundfile as sf\n",
    "import IPython.display \n",
    "\n",
    "\n",
    "x_loop, Fe = sf.read(\"../static/myloop.wav\")\n",
    "x_loop = x_loop[:10*Fe,0] # nous ne prenons qu'un seul canal et 10 secondes uniquement\n",
    "\n",
    "f, t, tfct = sig.stft(x_loop, fs=1, nperseg=4096)\n",
    "image = np.log(np.abs(tfct))\n",
    "plt.figure(1)\n",
    "#plt.imshow(image, aspect='auto', extent = [t[0]/Fe, t[-1]/Fe, f[-1]*Fe, f[0]*Fe], cmap='gray')  \n",
    "# imshow met les pixels de haut en bas donc dans le cas présent, on utilise plutôt pcolormesh \n",
    "#      pour avoir les basses fréquences en bas et les hautes fréquence en haut\n",
    "plt.pcolormesh(t/Fe, f*Fe, image, shading='auto', cmap='gray')  \n",
    "plt.xlabel('s')\n",
    "plt.ylabel('Hz')\n",
    "plt.title('affichage du spectrogramme')\n",
    "plt.figure(2)\n",
    "plt.pcolormesh(t/Fe, f[:len(f)//20]*Fe, image[:len(f)//20, :], shading='auto', cmap='gray')\n",
    "plt.xlabel('s')\n",
    "plt.ylabel('Hz')\n",
    "plt.title('zoom sur les basses fréquences')"
   ]
  },
  {
   "cell_type": "markdown",
   "id": "8af8c816",
   "metadata": {},
   "source": [
    "Le but de ce notebook est de créer deux filtres 2D: un qui détecte des lignes horizontales et un qui détecte des lignes verticales. Pour cela, il faut définir un noyau de convolution h et l'appliquer sur l'image."
   ]
  },
  {
   "cell_type": "markdown",
   "id": "184a19e0",
   "metadata": {},
   "source": [
    "## Fitre passe-bas\n",
    "Commençons par créer un filtre passe-bas 2D.\n",
    "\n",
    "Construire un noyau de filtre 2D séparable de la forme $h(x,y)=𝑤(x)𝑤(y)$\n",
    "en utilisant le produit tensoriel de Python et la fonction hanning pour des valeurs faibles de longueur 𝐿 (typ. de 3 à 51).\n",
    "Rque : np.outer(vecteur, vecteur) = matrice.\n",
    "\n",
    "On normalisera le noyau de manière à avoir $\\hat h(0,0)=1$.\n",
    "\n",
    "Filtrer l’image à l’aide de scipy.signal.convolve2d et afficher le résultat : filtered_image = sig.convolve2d(I, np.rot90(h), mode='same')\n",
    "\n",
    "Quel est l’effet de ce filtrage ? Quel rôle joue le paramètre L ?"
   ]
  },
  {
   "cell_type": "code",
   "execution_count": null,
   "id": "00d78b28",
   "metadata": {},
   "outputs": [],
   "source": [
    "# Your code here\n"
   ]
  },
  {
   "cell_type": "markdown",
   "id": "cec54529",
   "metadata": {},
   "source": [
    "## filtre passe-haut vertical et passe-bas horizontal\n",
    "\n",
    "Proposer un autre noyau de convolution qui amplifie les variations dans une direction et les aténue dans l'autre"
   ]
  },
  {
   "cell_type": "code",
   "execution_count": null,
   "id": "98e14af7",
   "metadata": {},
   "outputs": [],
   "source": []
  },
  {
   "cell_type": "code",
   "execution_count": null,
   "id": "e42efa6b",
   "metadata": {},
   "outputs": [],
   "source": []
  },
  {
   "cell_type": "code",
   "execution_count": null,
   "id": "1bb0b8a6",
   "metadata": {},
   "outputs": [],
   "source": []
  },
  {
   "cell_type": "code",
   "execution_count": null,
   "id": "38798719",
   "metadata": {},
   "outputs": [],
   "source": []
  }
 ],
 "metadata": {
  "kernelspec": {
   "display_name": "Python 3",
   "language": "python",
   "name": "python3"
  },
  "language_info": {
   "codemirror_mode": {
    "name": "ipython",
    "version": 3
   },
   "file_extension": ".py",
   "mimetype": "text/x-python",
   "name": "python",
   "nbconvert_exporter": "python",
   "pygments_lexer": "ipython3",
   "version": "3.13.0"
  }
 },
 "nbformat": 4,
 "nbformat_minor": 5
}
