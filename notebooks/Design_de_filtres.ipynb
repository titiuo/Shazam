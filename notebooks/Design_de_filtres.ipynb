{
 "cells": [
  {
   "cell_type": "markdown",
   "metadata": {},
   "source": [
    "# Filtrage passe-bas, à bande étroite et analyse de la TZ\n",
    "\n",
    "*But* : Analyser les filtres à bandes étroites et comprendre comment les représenter via la TZ\n",
    "\n"
   ]
  },
  {
   "cell_type": "markdown",
   "metadata": {},
   "source": [
    "## 1. Filtre passe-haut\n",
    "\n",
    "- On commence par charger le fichier du notebook précédent"
   ]
  },
  {
   "cell_type": "code",
   "execution_count": null,
   "metadata": {},
   "outputs": [],
   "source": [
    "%matplotlib inline\n",
    "import numpy as np\n",
    "import scipy.signal as sig\n",
    "import matplotlib.pyplot as plt\n",
    "\n",
    "import soundfile as sf\n",
    "import IPython.display \n",
    "\n",
    "\n",
    "x_loop, Fe = sf.read(\"myloop.wav\")\n",
    "x_loop = x_loop[:,0] #prenons qu'un seul canal \n",
    "IPython.display.Audio(x_loop, rate=Fe)\n",
    "\n"
   ]
  },
  {
   "cell_type": "markdown",
   "metadata": {},
   "source": [
    "- Un filtre passe-haut amplifie, comme son nom l'indique, les hautes fréquences jusqu'à une certaine valeur.  \n",
    "\n",
    "Nous allons d'abord étudier un filtre de fonction de transfert suivante : \n",
    "\n",
    "$$\n",
    "H(z) = \\frac{1-z^{-1}}{1+0.5z^{-1}}\n",
    "$$"
   ]
  },
  {
   "cell_type": "markdown",
   "metadata": {},
   "source": [
    "**Questions et application**:\n",
    "1. Vérifier ses caractéristiques (stable, causal etc. ?)\n",
    "2. Déterminer son pôle et son zéro\n",
    "3. Tracer la réponse en fréquence du filtre ainsi que les pôles et zéros sur un cercle (aidez vous des fonctions ci-dessous)\n",
    "4. Commentez ce que vous entendez."
   ]
  },
  {
   "cell_type": "code",
   "execution_count": null,
   "metadata": {},
   "outputs": [],
   "source": [
    "def reponse_en_frequence(b, a):\n",
    "    w,h = sig.freqz(b,a,4096)\n",
    "    hdb = 20*np.log10(np.abs(h))\n",
    "    plt.plot(w/2/np.pi,hdb)\n",
    "    plt.grid()\n",
    "    plt.xlabel(r'fréquence réduite $\\nu$')\n",
    "    plt.ylabel('dB')\n",
    "    plt.title('Réponse en fréquence du filtre')\n",
    "    plt.show()\n",
    "\n",
    "\n",
    "\n",
    "def plot_poles_and_zeros(poles, zeros):\n",
    "    # Plot the poles and zeros\n",
    "    plt.plot(np.real(zeros), np.imag(zeros), 'o', label='Zeros')\n",
    "    plt.plot(np.real(poles), np.imag(poles), 'x', label='Poles')\n",
    "\n",
    "    # Add axis labels and a legend\n",
    "    plt.xlabel('Partie réelle')\n",
    "    plt.ylabel('Partie Imaginaire')\n",
    "    plt.title('Pôles et zéros')\n",
    "    plt.legend()\n",
    "\n",
    "\n",
    "    # Ajouter un cercle unité\n",
    "    theta = np.linspace(0, 2*np.pi, 100)\n",
    "    plt.plot(np.cos(theta), np.sin(theta), '--', color='gray')\n",
    "\n",
    "    plt.xlim([-2.5, 2.5])\n",
    "    plt.ylim([-2.5, 2.5])\n",
    "    plt.gca().set_aspect('equal', adjustable='box')\n",
    "\n",
    "    #afficher le plot\n",
    "    plt.grid()\n",
    "    plt.show()\n"
   ]
  },
  {
   "cell_type": "code",
   "execution_count": null,
   "metadata": {},
   "outputs": [],
   "source": [
    "a = TODO #  dénominateur\n",
    "b = TODO #  numérateur\n",
    "\n",
    "x_f = sig.lfilter(b,a,x_loop)\n",
    "\n",
    "pi = np.pi\n",
    "\n",
    "\n",
    "# Calculer les pôles et les zéros\n",
    "zeros = np.roots(b)\n",
    "poles = np.roots(a)\n",
    "\n",
    "# Si on part des poles et des zéros, on a \n",
    "# a = np.poly(zeros)\n",
    "# b = np.poly(poles)\n",
    "\n",
    "reponse_en_frequence(b, a)\n",
    "\n",
    "plot_poles_and_zeros(poles, zeros)\n",
    "\n",
    "IPython.display.Audio(x_f, rate=Fe)\n"
   ]
  },
  {
   "cell_type": "code",
   "execution_count": null,
   "metadata": {},
   "outputs": [],
   "source": []
  },
  {
   "cell_type": "markdown",
   "metadata": {},
   "source": [
    "## 2. Filtre passe-bas\n",
    "\n",
    "1. Commencez par inverser le dénominateur et le numérateur du filtre précédent. C'est à dire, considérez la fonction de transfert suivante : \n",
    "$$\n",
    "H(z) = \\frac{1+0.5z^{-1}}{1-z^{-1}}\n",
    "$$\n",
    "Faites la même analyse qu'avant (réponse en fréquence, poles/zéros, stabilité, causalité etc.)\n",
    "\n",
    "2. Vous recevez un message d'erreur ? Quelle propriété n'a pas ce filtre qu'avait l'autre filtre ? \n",
    "   \n",
    "3. On va remplacer par le filtre suivant : \n",
    "$$\n",
    "H(z) = \\frac{1+0.5z^{-1}}{1-0.95z^{-1}}\n",
    "$$\n",
    "Est-ce que la propriété du premier filtre (dans la section 1) manquante a été récupérée ? \n",
    "\n",
    "4. Essayez de jouer avec les valeurs du pôle et du zéro pour voir l'influence sur la réponse en fréquence. En conclure alors à partir de cette première section et de la seconde section les valeurs des points $[1, 0], [-1, 0]$ sur le cercle (au choix: $\\frac{fe}{2} Hz$ ou $0$) "
   ]
  },
  {
   "cell_type": "code",
   "execution_count": null,
   "metadata": {},
   "outputs": [],
   "source": []
  },
  {
   "cell_type": "markdown",
   "metadata": {},
   "source": [
    "# 3. Filtre Passe-bande\n",
    "## 3.1. L'effet \"vieux téléphone\"\n",
    "Les appels téléphoniques, pour des raisons techniques, étaient limités à une bande fréquentielle de $200 Hz – 3,4 kHz$ dans le passé. \n",
    "\n",
    "On va charger tout d'abord le fichier ``speech.wav`` et tenter d'appliquer un filtre passe-bande correspondant à $200HZ - 3.4 kHz$"
   ]
  },
  {
   "cell_type": "code",
   "execution_count": null,
   "metadata": {},
   "outputs": [],
   "source": [
    "x_speech, Fe = sf.read(\"speech.wav\")\n",
    "print(Fe)\n",
    "IPython.display.Audio(x_speech, rate=Fe)"
   ]
  },
  {
   "cell_type": "markdown",
   "metadata": {},
   "source": [
    "1. Déterminer les angles $\\theta_{\\text{in}}, \\theta_{\\text{out}}$ sur le demi-cercle unité correspondant aux fréquences $200Hz$ et $3.4 kHz$ respectivement. \n",
    "2. Soient $z_{\\text{in}} = re^{i\\theta_{\\text{in}}}$ et $z_{\\text{out}} = re^{i\\theta_{\\text{out}}}$ les pôles correspondant aux fréquences du filtre passe bande avec $r < 1$. On considère $1$ pôle $z_1$ son conjugué :\n",
    "$$\n",
    "H(z) = \\frac{1}{|1-z_1 z^{-1}|^2}\n",
    "$$\n",
    "Pourquoi considérer les pôles conjugués à votre avis ?\n",
    "\n",
    "1. Application : Prenez $1$ pôle entre $\\theta_{\\text{in}}$ et $\\theta_{\\text{out}}$ au centre de la bande et appliquez-le au filtre. Observez la réponse fréquentielle du filtre en fonction des paramètres, contrôlez la position des pôles et concluez.\n",
    "   \n",
    "2. Amélioration : Rajoutez des zéros conjugués dans $H(z)$ pour encore plus insister sur la réponse fréquentielle du filtre dans la bande passante voulue.  "
   ]
  },
  {
   "cell_type": "code",
   "execution_count": null,
   "metadata": {},
   "outputs": [],
   "source": [
    "r_zeros = TODO\n",
    "r_pole = TODO\n",
    "Theta_in = TODO\n",
    "Theta_out = TODO\n",
    "thetas_poles = TODO\n",
    "thetas_zeros = TODO\n",
    "\n",
    "z_pole = r_pole * np.concatenate((np.exp(1j * thetas_poles), (np.exp(-1j * thetas_poles))),\n",
    "                       axis=0)\n",
    "z_zeros = r_zeros * np.concatenate((np.exp(1j * thetas_zeros), (np.exp(-1j * thetas_zeros))),\n",
    "                       axis=0)\n",
    "a = np.poly(z_pole)  # denominateur\n",
    "b = np.poly(z_zeros) # numérateur\n",
    "\n",
    "x_f = TODO\n",
    "\n",
    "reponse_en_frequence(b, a)\n",
    "\n",
    "plot_poles_and_zeros(poles, zeros)\n"
   ]
  },
  {
   "cell_type": "markdown",
   "metadata": {},
   "source": [
    "\n",
    "## 3.2. Isolation des notes\n",
    "\n",
    "Un modèle simple pour un instrument harmonique quand il joue une note est qu'il est composé : \n",
    "- d'une fréquence fondamentale (souvent appellée $f_0$)\n",
    "- d'harmoniques ou *partiel harmonique* (proportionnel à $f_0$ *e.g.* $2 f_0, 3f_0 \\dots$)\n",
    "\n",
    "Les fréquences fondamentales du piano sont disponibles sur Wikipedia [ici](https://fr.wikipedia.org/wiki/Fr%C3%A9quences_des_touches_du_piano)\n",
    "Le la est à 440 Hz. Quand la fréquence double, la note porte le même nom mais on change d'octave. Le rapport de fréquence entre deux notes successives est égal à 2**(1/12)."
   ]
  },
  {
   "cell_type": "markdown",
   "metadata": {},
   "source": [
    "On s'intéresse tout d'abord à un fichier généré avec des sinusoïdes. Nous allons créer un filtre  stable et causal qui résonne quand une note donnée est présente dans le signal mais pas pour les autres notes. On pourra \n",
    "- soit placer les pôles et les zéros de manière à obtenir l'effet voulu, \n",
    "- soit partir d'un filtre passe-bas et décaler sa réponse en fréquence de manière appropriée.\n",
    "\n",
    "\n",
    "Conseil: Il peut être intéressant de retourner le module d'un filtre complexe. En effet la sortie d'un filtre réel oscillera à la fréquence recherchée, ce qui gêne la visualisation."
   ]
  },
  {
   "cell_type": "code",
   "execution_count": null,
   "metadata": {},
   "outputs": [],
   "source": [
    "t = np.arange(0, 5, 1/Fe)\n",
    "son = np.concatenate([np.sin(2 * np.pi * t[0:len(t)//3] * 440), \n",
    "                      np.sin(2*np.pi*t[len(t)//3:2*len(t)//3] * 440*2**(1/12)), \n",
    "                      np.sin(2*np.pi*t[2*len(t)//3:] * 440 * 2) ])"
   ]
  },
  {
   "cell_type": "code",
   "execution_count": null,
   "metadata": {},
   "outputs": [],
   "source": [
    "IPython.display.Audio(son, rate=Fe)"
   ]
  },
  {
   "cell_type": "code",
   "execution_count": null,
   "metadata": {},
   "outputs": [],
   "source": []
  },
  {
   "cell_type": "markdown",
   "metadata": {},
   "source": [
    "On charge ci-après le fichier ``Piano_accord.wav`` qui est composé des notes $\\texttt{Do 4, Mi 4, Sol 4} $. Essayez de faire de même avec ce morceau plus complexe."
   ]
  },
  {
   "cell_type": "code",
   "execution_count": null,
   "metadata": {},
   "outputs": [],
   "source": [
    "x_accord, Fe = sf.read(\"Piano_accord.wav\")\n",
    "x_accord = x_accord[:,0] #prenons qu'un seul canal \n",
    "IPython.display.Audio(x_accord, rate=Fe)"
   ]
  },
  {
   "cell_type": "code",
   "execution_count": null,
   "metadata": {},
   "outputs": [],
   "source": []
  },
  {
   "cell_type": "markdown",
   "metadata": {},
   "source": [
    "## 3.3. Transformée de Fourier à court terme\n",
    "Montrez que la TCFT peut se réinterpréter comme un ensemble de filtres détecteurs de notes. En déduire un algorithme rapide pour détecter un grand nombre de notes en même temps.\n"
   ]
  },
  {
   "cell_type": "code",
   "execution_count": null,
   "metadata": {},
   "outputs": [],
   "source": []
  }
 ],
 "metadata": {
  "kernelspec": {
   "display_name": "Python 3",
   "language": "python",
   "name": "python3"
  },
  "language_info": {
   "codemirror_mode": {
    "name": "ipython",
    "version": 3
   },
   "file_extension": ".py",
   "mimetype": "text/x-python",
   "name": "python",
   "nbconvert_exporter": "python",
   "pygments_lexer": "ipython3",
   "version": "3.5.3"
  }
 },
 "nbformat": 4,
 "nbformat_minor": 2
}
