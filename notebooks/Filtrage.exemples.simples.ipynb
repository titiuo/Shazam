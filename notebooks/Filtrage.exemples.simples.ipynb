{
 "cells": [
  {
   "cell_type": "markdown",
   "metadata": {},
   "source": [
    "## Introduction\n",
    "Les systèmes linéaires invariants (SLI) sont à la base de très nombreux traitements des signaux : communications numériques pour égaliser l'effet du canal de transmission, en débruitage de signaux mesurés par des capteurs physiques ou encore en reproduction du son pour rééquilibrer la balance graves/aigus. Dans ce notebook, on étudiera quelques exemples simples de la classe de SLI la plus courante : les SLI à fonction de transfert rationnelle. Pour l'instant on les définira dans le domaine temporel : l'échantillon de sortie courant $y(n)$ est calculé comme une *somme pondérée* des échantillons d'entrée et de ceux de sortie déjà calculés ($y(k)$ pour $k \\leq n-1$). Soit finalement : \n",
    "\n",
    "\\begin{align}\n",
    "y(n) = b_{-Q}x(n+Q)&+b_{-Q+1}x(n+Q-1)+\\ldots+b_{P-1}x(n-P+1)+b_{P}x(n-P)\\\\\n",
    "&+a_{1}y(n-1)+a_{2}y(n-2)+\\ldots+a_{R}y(n-R) \n",
    "\\end{align}\n",
    "\n",
    "On voit donc que ce calcul se scinde en une partie de *moyenne glissante* de l'entrée et de *récursion* sur les valeurs déjà calculées de la sortie. Dans la suite, on va s'intéresser à deux \"paradigmes\" de ce type de SLI : le filtre moyenneur et le filtre récursif d'ordre 1. \n",
    "\n",
    "Pour appréhender l'effet de ces filtres deux jeux de données sont fournies : \n",
    "* réchauffement climatique : des données de concentration en CO2 mesurées au somment du Mauna Loa à Hawaï ([co2.txt](http://perso.enst.fr/bedavid/OASIS/Signaux/co2.txt))\n",
    "* en audio : une boucle libre de droits ([myloop.wav](http://perso.enst.fr/bedavid/OASIS/Signaux/myloop.wav))\n",
    "\n",
    "#### mots clefs : \n",
    "Systèmes Linéaires Invariants, moyenneur, filtre récursif, filtrage.\n",
    "\n",
    "### Rappel packages\n",
    "Nous allons utiliser les packages python \n",
    "* [sounddevice](https://pypi.python.org/pypi/sounddevice/) : pour jouer les signaux audio (numpy arrays) et enregistrer  \n",
    "* [soundfile](https://pypi.python.org/pypi/SoundFile/0.8.1) : pour lire/écrire des fichiers .wav\n",
    "* [scipy.signal](https://docs.scipy.org/doc/scipy/reference/signal.html) : le package signal de scipy, qui contient notamment la fonction lfilter qui calcule $y(n)$ à l'aide de la précédente équation (dite \"aux différences\")\n",
    "* [matplotlib.pyplot](http://matplotlib.org/api/pyplot_api.html) : pour afficher les graphes \n",
    "\n",
    "## Mon premier moyenneur\n",
    "Un filtre simple consiste à calculer l'échantillon courant comme la moyenne arithmétique des $M$ échantillons. Par exemple avec $M=3$ : \n",
    "$$y(n)=\\dfrac{1}{3}\\{x(n)+x(n-1)+x(n-3)\\}$$\n",
    "\n",
    "Cela s'écrit bien comme l'équation dite \"aux différences\" donnée plus haut. On peut remarquer que c'est aussi l'écriture d'une convolution : $y(n)=\\sum_{p\\in\\mathbb{Z}}h(p)x(n-p)$ avec $h(n)=1/3$ pour $n=0,1,2$ et $h(n)=0$ partout ailleurs. La fonction de transfert (FT) correspondante est donc : $H(z)=\\dfrac{1+z^{-1}+z^{-2}}{3}$.\n",
    "\n",
    "Pour comprendre quel effet produit ce filtre nous allons l'utiliser sur le fichier audio et écouter le résultat.\n",
    "Pour cela nous utilisons la fonction `lfilter` du package scipy.signal. Elle prend en argument les coefficients $b$ et $a$ resp. du numérateur et du dénominateur de $H(z)$. "
   ]
  },
  {
   "cell_type": "code",
   "execution_count": 33,
   "metadata": {
    "collapsed": false
   },
   "outputs": [],
   "source": [
    "%matplotlib inline \n",
    "#qt5 pour avoir les graphes en dehors\n",
    "import sounddevice as sd\n",
    "import soundfile as sf\n",
    "import scipy.signal as sig\n",
    "import numpy as np\n",
    "import matplotlib.pyplot as plt\n",
    "\n",
    "#le fichier doit se trouver dans le même répertoire que le notebook\n",
    "x, Fe = sf.read('myloop.wav')\n",
    "x = x[:,1]\n",
    "M = 3\n",
    "b = np.ones(M)/M\n",
    "a = 1\n",
    "xf = sig.lfilter(b,a,x)\n"
   ]
  },
  {
   "cell_type": "code",
   "execution_count": 28,
   "metadata": {
    "collapsed": true
   },
   "outputs": [],
   "source": [
    "#x = x/np.std(x) # normalisation rms\n",
    "sd.play(x[1:20*Fe],Fe) # on joue le signal original"
   ]
  },
  {
   "cell_type": "code",
   "execution_count": 29,
   "metadata": {
    "collapsed": true
   },
   "outputs": [],
   "source": [
    "#xf = xf/np.std(xf)\n",
    "sd.play(xf[1:20*Fe],Fe) # on joue le signal filtré"
   ]
  },
  {
   "cell_type": "markdown",
   "metadata": {},
   "source": [
    "----\n",
    "\n",
    ">### Questions de compréhension\n",
    "\n",
    "1. Entendez vous un(des) effet(s) ?\n",
    "2. Selon vous, quel(s) effet(s) devrait produire ce filtre ? Avez-vous des arguments mathématiques pour soutenir votre affirmation ?\n",
    "3. Quelle modification/réglage pourrait-on apporter pour rendre l'effet plus évident ?\n",
    "4. Décommenter les lignes de normalisation de la forme `x/np.std(x)`, écoutez à nouveau et interprétez. \n",
    "----"
   ]
  },
  {
   "cell_type": "markdown",
   "metadata": {},
   "source": [
    "\n",
    "### Mise en évidence des propriétés spectrales\n",
    "\n",
    "Pour tracer la réponse en fréquence du filtre, il existe la fonction `freqz` utilisée ci-dessous.\n"
   ]
  },
  {
   "cell_type": "code",
   "execution_count": 44,
   "metadata": {
    "collapsed": false
   },
   "outputs": [
    {
     "data": {
      "image/png": "[encoded data removed]",
      "text/plain": [
       "<matplotlib.figure.Figure at 0x116b47208>"
      ]
     },
     "metadata": {},
     "output_type": "display_data"
    }
   ],
   "source": [
    "pi = np.pi\n",
    "w,h = sig.freqz(b,a,4096)\n",
    "\n",
    "hdb = 20*np.log10(np.abs(h))\n",
    "plt.plot(w/2/pi,hdb)\n",
    "plt.grid()\n",
    "plt.xlabel(r'fréquence réduite $\\nu$')\n",
    "plt.ylabel('dB')\n",
    "plt.title('Réponse en fréquence du filtre')\n",
    "plt.show()"
   ]
  },
  {
   "cell_type": "markdown",
   "metadata": {},
   "source": [
    "----\n",
    ">### Interprétation\n",
    "\n",
    "Interpréter les résultats obtenus en fonction de vos écoutes et de vos calculs :\n",
    "\n",
    "*ici votre réponse*\n",
    "\n",
    "----"
   ]
  },
  {
   "cell_type": "markdown",
   "metadata": {},
   "source": [
    "## Mon premier filtre récursif\n",
    "\n",
    "Le filtre récursif le plus simple réalise l'opération entrée/sortie suivante : \n",
    "$y(n)=\\alpha y(n-1)+x(n)$. En vous inspirant de ce qui précède, filtrer le signal audio fourni à l'aide de ce SLI avec $\\alpha =0.75$.\n"
   ]
  },
  {
   "cell_type": "code",
   "execution_count": 65,
   "metadata": {
    "collapsed": false
   },
   "outputs": [],
   "source": [
    "# ici votre code\n",
    "x, Fe = sf.read('myloop.wav')\n",
    "x = x[:,1]\n",
    "alpha = 0.75\n",
    "b = [1]\n",
    "a = [1 , -alpha]\n",
    "xf = sig.lfilter(b,a,x)"
   ]
  },
  {
   "cell_type": "code",
   "execution_count": 68,
   "metadata": {
    "collapsed": true
   },
   "outputs": [],
   "source": [
    "x = x/np.std(x) # normalisation rms\n",
    "sd.play(x,Fe) # on joue le signal original"
   ]
  },
  {
   "cell_type": "code",
   "execution_count": 69,
   "metadata": {
    "collapsed": true
   },
   "outputs": [],
   "source": [
    "xf = xf/np.std(xf) # normalisation rms\n",
    "sd.play(xf,Fe) # on joue le signal filtré"
   ]
  },
  {
   "cell_type": "markdown",
   "metadata": {},
   "source": [
    "---\n",
    ">### Questions et interprétations\n",
    "\n",
    "Répondre aux mêmes questions/interprétations que précédemment.\n",
    "\n",
    ">*ici vos réponses*\n",
    "\n",
    "---"
   ]
  },
  {
   "cell_type": "markdown",
   "metadata": {},
   "source": [
    "-------\n",
    "\n",
    "## Etude du réchauffement climatique\n",
    "\n",
    "On veut observer la tendance à l'accroissement de la proportion de CO2 liée au réchauffement climatique. Pour cela, nous cherchons ici à réduire la composante saisonnière (oscillations).\n",
    "\n",
    "Le code ci-dessous vous permet de charger le fichier et d'afficher les données, ensuite c'est à vous d'utiliser le moyenneur et/ou le filtre récursif vus plus haut pour obtenire l'effet souhaité. Etapes conseillées :\n",
    "\n",
    ">1. Analyse des données (temporelle,spectrale) : pouvez vous interpréter les données et leur spectre ? proposer un modèle mathématique pour ces données ?\n",
    "2. A l'aide de `freqz` et de vos calculs ajuster les paramètres ($M$,$\\alpha$) des filtres pour obtenir une visualisation de la tendance générale la meilleure possible, soit avec un moyenneur soit avec un filtre récursif.\n",
    "3. Faire un choix entre ces 2 filtres. Ecrire les raisons de ce choix.\n",
    "4. A quel compromis, limites doit-on faire face ?\n",
    "\n",
    "\n"
   ]
  },
  {
   "cell_type": "code",
   "execution_count": 96,
   "metadata": {
    "collapsed": false,
    "scrolled": true
   },
   "outputs": [
    {
     "data": {
      "image/png": "[encoded data removed]",
      "text/plain": [
       "<matplotlib.figure.Figure at 0x1095cd240>"
      ]
     },
     "metadata": {},
     "output_type": "display_data"
    }
   ],
   "source": [
    "#-*- coding: utf-8 -*-\n",
    "x = np.loadtxt('co2.txt',skiprows=4)\n",
    "plt.plot(x)\n",
    "plt.xlabel('temps (mois)')\n",
    "plt.ylabel('Concentration de CO2')\n",
    "plt.grid()\n",
    "plt.show()"
   ]
  },
  {
   "cell_type": "code",
   "execution_count": 1,
   "metadata": {
    "collapsed": false
   },
   "outputs": [],
   "source": [
    "# votre code ici\n"
   ]
  },
  {
   "cell_type": "code",
   "execution_count": null,
   "metadata": {
    "collapsed": true
   },
   "outputs": [],
   "source": []
  }
 ],
 "metadata": {
  "kernelspec": {
   "display_name": "Python 3",
   "language": "python",
   "name": "python3"
  },
  "language_info": {
   "codemirror_mode": {
    "name": "ipython",
    "version": 3
   },
   "file_extension": ".py",
   "mimetype": "text/x-python",
   "name": "python",
   "nbconvert_exporter": "python",
   "pygments_lexer": "ipython3",
   "version": "3.6.0"
  }
 },
 "nbformat": 4,
 "nbformat_minor": 0
}
